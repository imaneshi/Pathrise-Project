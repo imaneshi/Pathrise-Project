{
  "cells": [
    {
      "cell_type": "markdown",
      "metadata": {
        "id": "kiW10b32WRIL"
      },
      "source": [
        "# Understanding the Objective\n",
        "**The main goal of your analysis is to derive insights around if a fellow willultimately be placed at a company and how long until a placement can be expected .**"
      ]
    },
    {
      "cell_type": "markdown",
      "metadata": {
        "id": "8rvLd5QUJUDf"
      },
      "source": [
        "**Import Libraries**"
      ]
    },
    {
      "cell_type": "code",
      "execution_count": 508,
      "metadata": {
        "id": "kx1yP4HjFIaJ"
      },
      "outputs": [],
      "source": [
        "from google.colab import files\n",
        "import pandas as pd\n",
        "import seaborn as sns\n",
        "import matplotlib.pyplot as plt\n",
        "import numpy as np\n"
      ]
    },
    {
      "cell_type": "markdown",
      "metadata": {
        "id": "S4dLfg5fJFrW"
      },
      "source": [
        "**Import** **dataset**"
      ]
    },
    {
      "cell_type": "code",
      "execution_count": 509,
      "metadata": {
        "colab": {
          "base_uri": "https://localhost:8080/",
          "height": 72
        },
        "id": "jV-JalUFrEgc",
        "outputId": "1f23cf42-0c88-4e70-f40c-6fdcccc64497"
      },
      "outputs": [
        {
          "output_type": "display_data",
          "data": {
            "text/plain": [
              "<IPython.core.display.HTML object>"
            ],
            "text/html": [
              "\n",
              "     <input type=\"file\" id=\"files-d3c0d91a-d84f-4eb1-82ff-a0d9915ac3d3\" name=\"files[]\" multiple disabled\n",
              "        style=\"border:none\" />\n",
              "     <output id=\"result-d3c0d91a-d84f-4eb1-82ff-a0d9915ac3d3\">\n",
              "      Upload widget is only available when the cell has been executed in the\n",
              "      current browser session. Please rerun this cell to enable.\n",
              "      </output>\n",
              "      <script>// Copyright 2017 Google LLC\n",
              "//\n",
              "// Licensed under the Apache License, Version 2.0 (the \"License\");\n",
              "// you may not use this file except in compliance with the License.\n",
              "// You may obtain a copy of the License at\n",
              "//\n",
              "//      http://www.apache.org/licenses/LICENSE-2.0\n",
              "//\n",
              "// Unless required by applicable law or agreed to in writing, software\n",
              "// distributed under the License is distributed on an \"AS IS\" BASIS,\n",
              "// WITHOUT WARRANTIES OR CONDITIONS OF ANY KIND, either express or implied.\n",
              "// See the License for the specific language governing permissions and\n",
              "// limitations under the License.\n",
              "\n",
              "/**\n",
              " * @fileoverview Helpers for google.colab Python module.\n",
              " */\n",
              "(function(scope) {\n",
              "function span(text, styleAttributes = {}) {\n",
              "  const element = document.createElement('span');\n",
              "  element.textContent = text;\n",
              "  for (const key of Object.keys(styleAttributes)) {\n",
              "    element.style[key] = styleAttributes[key];\n",
              "  }\n",
              "  return element;\n",
              "}\n",
              "\n",
              "// Max number of bytes which will be uploaded at a time.\n",
              "const MAX_PAYLOAD_SIZE = 100 * 1024;\n",
              "\n",
              "function _uploadFiles(inputId, outputId) {\n",
              "  const steps = uploadFilesStep(inputId, outputId);\n",
              "  const outputElement = document.getElementById(outputId);\n",
              "  // Cache steps on the outputElement to make it available for the next call\n",
              "  // to uploadFilesContinue from Python.\n",
              "  outputElement.steps = steps;\n",
              "\n",
              "  return _uploadFilesContinue(outputId);\n",
              "}\n",
              "\n",
              "// This is roughly an async generator (not supported in the browser yet),\n",
              "// where there are multiple asynchronous steps and the Python side is going\n",
              "// to poll for completion of each step.\n",
              "// This uses a Promise to block the python side on completion of each step,\n",
              "// then passes the result of the previous step as the input to the next step.\n",
              "function _uploadFilesContinue(outputId) {\n",
              "  const outputElement = document.getElementById(outputId);\n",
              "  const steps = outputElement.steps;\n",
              "\n",
              "  const next = steps.next(outputElement.lastPromiseValue);\n",
              "  return Promise.resolve(next.value.promise).then((value) => {\n",
              "    // Cache the last promise value to make it available to the next\n",
              "    // step of the generator.\n",
              "    outputElement.lastPromiseValue = value;\n",
              "    return next.value.response;\n",
              "  });\n",
              "}\n",
              "\n",
              "/**\n",
              " * Generator function which is called between each async step of the upload\n",
              " * process.\n",
              " * @param {string} inputId Element ID of the input file picker element.\n",
              " * @param {string} outputId Element ID of the output display.\n",
              " * @return {!Iterable<!Object>} Iterable of next steps.\n",
              " */\n",
              "function* uploadFilesStep(inputId, outputId) {\n",
              "  const inputElement = document.getElementById(inputId);\n",
              "  inputElement.disabled = false;\n",
              "\n",
              "  const outputElement = document.getElementById(outputId);\n",
              "  outputElement.innerHTML = '';\n",
              "\n",
              "  const pickedPromise = new Promise((resolve) => {\n",
              "    inputElement.addEventListener('change', (e) => {\n",
              "      resolve(e.target.files);\n",
              "    });\n",
              "  });\n",
              "\n",
              "  const cancel = document.createElement('button');\n",
              "  inputElement.parentElement.appendChild(cancel);\n",
              "  cancel.textContent = 'Cancel upload';\n",
              "  const cancelPromise = new Promise((resolve) => {\n",
              "    cancel.onclick = () => {\n",
              "      resolve(null);\n",
              "    };\n",
              "  });\n",
              "\n",
              "  // Wait for the user to pick the files.\n",
              "  const files = yield {\n",
              "    promise: Promise.race([pickedPromise, cancelPromise]),\n",
              "    response: {\n",
              "      action: 'starting',\n",
              "    }\n",
              "  };\n",
              "\n",
              "  cancel.remove();\n",
              "\n",
              "  // Disable the input element since further picks are not allowed.\n",
              "  inputElement.disabled = true;\n",
              "\n",
              "  if (!files) {\n",
              "    return {\n",
              "      response: {\n",
              "        action: 'complete',\n",
              "      }\n",
              "    };\n",
              "  }\n",
              "\n",
              "  for (const file of files) {\n",
              "    const li = document.createElement('li');\n",
              "    li.append(span(file.name, {fontWeight: 'bold'}));\n",
              "    li.append(span(\n",
              "        `(${file.type || 'n/a'}) - ${file.size} bytes, ` +\n",
              "        `last modified: ${\n",
              "            file.lastModifiedDate ? file.lastModifiedDate.toLocaleDateString() :\n",
              "                                    'n/a'} - `));\n",
              "    const percent = span('0% done');\n",
              "    li.appendChild(percent);\n",
              "\n",
              "    outputElement.appendChild(li);\n",
              "\n",
              "    const fileDataPromise = new Promise((resolve) => {\n",
              "      const reader = new FileReader();\n",
              "      reader.onload = (e) => {\n",
              "        resolve(e.target.result);\n",
              "      };\n",
              "      reader.readAsArrayBuffer(file);\n",
              "    });\n",
              "    // Wait for the data to be ready.\n",
              "    let fileData = yield {\n",
              "      promise: fileDataPromise,\n",
              "      response: {\n",
              "        action: 'continue',\n",
              "      }\n",
              "    };\n",
              "\n",
              "    // Use a chunked sending to avoid message size limits. See b/62115660.\n",
              "    let position = 0;\n",
              "    do {\n",
              "      const length = Math.min(fileData.byteLength - position, MAX_PAYLOAD_SIZE);\n",
              "      const chunk = new Uint8Array(fileData, position, length);\n",
              "      position += length;\n",
              "\n",
              "      const base64 = btoa(String.fromCharCode.apply(null, chunk));\n",
              "      yield {\n",
              "        response: {\n",
              "          action: 'append',\n",
              "          file: file.name,\n",
              "          data: base64,\n",
              "        },\n",
              "      };\n",
              "\n",
              "      let percentDone = fileData.byteLength === 0 ?\n",
              "          100 :\n",
              "          Math.round((position / fileData.byteLength) * 100);\n",
              "      percent.textContent = `${percentDone}% done`;\n",
              "\n",
              "    } while (position < fileData.byteLength);\n",
              "  }\n",
              "\n",
              "  // All done.\n",
              "  yield {\n",
              "    response: {\n",
              "      action: 'complete',\n",
              "    }\n",
              "  };\n",
              "}\n",
              "\n",
              "scope.google = scope.google || {};\n",
              "scope.google.colab = scope.google.colab || {};\n",
              "scope.google.colab._files = {\n",
              "  _uploadFiles,\n",
              "  _uploadFilesContinue,\n",
              "};\n",
              "})(self);\n",
              "</script> "
            ]
          },
          "metadata": {}
        },
        {
          "output_type": "stream",
          "name": "stdout",
          "text": [
            "Saving Data_Pathrise.xlsx to Data_Pathrise (9).xlsx\n"
          ]
        }
      ],
      "source": [
        "uploaded = files.upload()\n"
      ]
    },
    {
      "cell_type": "markdown",
      "metadata": {
        "id": "8-2SKhTVJf3g"
      },
      "source": [
        "**Read the data**"
      ]
    },
    {
      "cell_type": "code",
      "execution_count": 510,
      "metadata": {
        "id": "Zn_3DZm8rKVd"
      },
      "outputs": [],
      "source": [
        "df = pd.read_excel('Data_Pathrise.xlsx')"
      ]
    },
    {
      "cell_type": "markdown",
      "metadata": {
        "id": "XIWgt1zXJn4o"
      },
      "source": [
        "**Data Understanding**"
      ]
    },
    {
      "cell_type": "code",
      "execution_count": 511,
      "metadata": {
        "colab": {
          "base_uri": "https://localhost:8080/",
          "height": 504
        },
        "id": "xJcavuyvrmZ-",
        "outputId": "05f3448e-517f-46e1-a77c-3f7aa6b09648"
      },
      "outputs": [
        {
          "output_type": "execute_result",
          "data": {
            "text/plain": [
              "   id pathrise_status primary_track cohort_tag  program_duration_days  placed  \\\n",
              "0   1          Active           SWE     OCT19A                    NaN       0   \n",
              "1   2          Active           PSO     JAN20A                    NaN       0   \n",
              "2   3     Closed Lost        Design     AUG19B                    0.0       0   \n",
              "3   4     Closed Lost           PSO     AUG19B                    0.0       0   \n",
              "4   5          Placed           SWE     AUG19A                   89.0       1   \n",
              "\n",
              "   employment_status  highest_level_of_education length_of_job_search  \\\n",
              "0          Unemployed          Bachelor's Degree           3-5 months   \n",
              "1          Unemployed    Some College, No Degree           3-5 months   \n",
              "2  Employed Part-Time            Master's Degree  Less than one month   \n",
              "3          Contractor          Bachelor's Degree  Less than one month   \n",
              "4          Unemployed          Bachelor's Degree           1-2 months   \n",
              "\n",
              "            biggest_challenge_in_search professional_experience  \\\n",
              "0       Hearing back on my applications               3-4 years   \n",
              "1   Getting past final round interviews               1-2 years   \n",
              "2  Figuring out which jobs to apply for      Less than one year   \n",
              "3   Getting past final round interviews      Less than one year   \n",
              "4       Hearing back on my applications               1-2 years   \n",
              "\n",
              "  work_authorization_status  number_of_interviews  number_of_applications  \\\n",
              "0            Canada Citizen                   2.0                     900   \n",
              "1                   Citizen                   6.0                       0   \n",
              "2                   Citizen                   0.0                       0   \n",
              "3                   Citizen                   5.0                      25   \n",
              "4               F1 Visa/OPT                  10.0                     100   \n",
              "\n",
              "  gender                                 race  \n",
              "0   Male  Non-Hispanic White or Euro-American  \n",
              "1   Male  Non-Hispanic White or Euro-American  \n",
              "2   Male         East Asian or Asian American  \n",
              "3   Male             Decline to Self Identify  \n",
              "4   Male         East Asian or Asian American  "
            ],
            "text/html": [
              "\n",
              "  <div id=\"df-39a4b8ab-6120-4118-8b4e-a7daeeab4766\" class=\"colab-df-container\">\n",
              "    <div>\n",
              "<style scoped>\n",
              "    .dataframe tbody tr th:only-of-type {\n",
              "        vertical-align: middle;\n",
              "    }\n",
              "\n",
              "    .dataframe tbody tr th {\n",
              "        vertical-align: top;\n",
              "    }\n",
              "\n",
              "    .dataframe thead th {\n",
              "        text-align: right;\n",
              "    }\n",
              "</style>\n",
              "<table border=\"1\" class=\"dataframe\">\n",
              "  <thead>\n",
              "    <tr style=\"text-align: right;\">\n",
              "      <th></th>\n",
              "      <th>id</th>\n",
              "      <th>pathrise_status</th>\n",
              "      <th>primary_track</th>\n",
              "      <th>cohort_tag</th>\n",
              "      <th>program_duration_days</th>\n",
              "      <th>placed</th>\n",
              "      <th>employment_status</th>\n",
              "      <th>highest_level_of_education</th>\n",
              "      <th>length_of_job_search</th>\n",
              "      <th>biggest_challenge_in_search</th>\n",
              "      <th>professional_experience</th>\n",
              "      <th>work_authorization_status</th>\n",
              "      <th>number_of_interviews</th>\n",
              "      <th>number_of_applications</th>\n",
              "      <th>gender</th>\n",
              "      <th>race</th>\n",
              "    </tr>\n",
              "  </thead>\n",
              "  <tbody>\n",
              "    <tr>\n",
              "      <th>0</th>\n",
              "      <td>1</td>\n",
              "      <td>Active</td>\n",
              "      <td>SWE</td>\n",
              "      <td>OCT19A</td>\n",
              "      <td>NaN</td>\n",
              "      <td>0</td>\n",
              "      <td>Unemployed</td>\n",
              "      <td>Bachelor's Degree</td>\n",
              "      <td>3-5 months</td>\n",
              "      <td>Hearing back on my applications</td>\n",
              "      <td>3-4 years</td>\n",
              "      <td>Canada Citizen</td>\n",
              "      <td>2.0</td>\n",
              "      <td>900</td>\n",
              "      <td>Male</td>\n",
              "      <td>Non-Hispanic White or Euro-American</td>\n",
              "    </tr>\n",
              "    <tr>\n",
              "      <th>1</th>\n",
              "      <td>2</td>\n",
              "      <td>Active</td>\n",
              "      <td>PSO</td>\n",
              "      <td>JAN20A</td>\n",
              "      <td>NaN</td>\n",
              "      <td>0</td>\n",
              "      <td>Unemployed</td>\n",
              "      <td>Some College, No Degree</td>\n",
              "      <td>3-5 months</td>\n",
              "      <td>Getting past final round interviews</td>\n",
              "      <td>1-2 years</td>\n",
              "      <td>Citizen</td>\n",
              "      <td>6.0</td>\n",
              "      <td>0</td>\n",
              "      <td>Male</td>\n",
              "      <td>Non-Hispanic White or Euro-American</td>\n",
              "    </tr>\n",
              "    <tr>\n",
              "      <th>2</th>\n",
              "      <td>3</td>\n",
              "      <td>Closed Lost</td>\n",
              "      <td>Design</td>\n",
              "      <td>AUG19B</td>\n",
              "      <td>0.0</td>\n",
              "      <td>0</td>\n",
              "      <td>Employed Part-Time</td>\n",
              "      <td>Master's Degree</td>\n",
              "      <td>Less than one month</td>\n",
              "      <td>Figuring out which jobs to apply for</td>\n",
              "      <td>Less than one year</td>\n",
              "      <td>Citizen</td>\n",
              "      <td>0.0</td>\n",
              "      <td>0</td>\n",
              "      <td>Male</td>\n",
              "      <td>East Asian or Asian American</td>\n",
              "    </tr>\n",
              "    <tr>\n",
              "      <th>3</th>\n",
              "      <td>4</td>\n",
              "      <td>Closed Lost</td>\n",
              "      <td>PSO</td>\n",
              "      <td>AUG19B</td>\n",
              "      <td>0.0</td>\n",
              "      <td>0</td>\n",
              "      <td>Contractor</td>\n",
              "      <td>Bachelor's Degree</td>\n",
              "      <td>Less than one month</td>\n",
              "      <td>Getting past final round interviews</td>\n",
              "      <td>Less than one year</td>\n",
              "      <td>Citizen</td>\n",
              "      <td>5.0</td>\n",
              "      <td>25</td>\n",
              "      <td>Male</td>\n",
              "      <td>Decline to Self Identify</td>\n",
              "    </tr>\n",
              "    <tr>\n",
              "      <th>4</th>\n",
              "      <td>5</td>\n",
              "      <td>Placed</td>\n",
              "      <td>SWE</td>\n",
              "      <td>AUG19A</td>\n",
              "      <td>89.0</td>\n",
              "      <td>1</td>\n",
              "      <td>Unemployed</td>\n",
              "      <td>Bachelor's Degree</td>\n",
              "      <td>1-2 months</td>\n",
              "      <td>Hearing back on my applications</td>\n",
              "      <td>1-2 years</td>\n",
              "      <td>F1 Visa/OPT</td>\n",
              "      <td>10.0</td>\n",
              "      <td>100</td>\n",
              "      <td>Male</td>\n",
              "      <td>East Asian or Asian American</td>\n",
              "    </tr>\n",
              "  </tbody>\n",
              "</table>\n",
              "</div>\n",
              "    <div class=\"colab-df-buttons\">\n",
              "\n",
              "  <div class=\"colab-df-container\">\n",
              "    <button class=\"colab-df-convert\" onclick=\"convertToInteractive('df-39a4b8ab-6120-4118-8b4e-a7daeeab4766')\"\n",
              "            title=\"Convert this dataframe to an interactive table.\"\n",
              "            style=\"display:none;\">\n",
              "\n",
              "  <svg xmlns=\"http://www.w3.org/2000/svg\" height=\"24px\" viewBox=\"0 -960 960 960\">\n",
              "    <path d=\"M120-120v-720h720v720H120Zm60-500h600v-160H180v160Zm220 220h160v-160H400v160Zm0 220h160v-160H400v160ZM180-400h160v-160H180v160Zm440 0h160v-160H620v160ZM180-180h160v-160H180v160Zm440 0h160v-160H620v160Z\"/>\n",
              "  </svg>\n",
              "    </button>\n",
              "\n",
              "  <style>\n",
              "    .colab-df-container {\n",
              "      display:flex;\n",
              "      gap: 12px;\n",
              "    }\n",
              "\n",
              "    .colab-df-convert {\n",
              "      background-color: #E8F0FE;\n",
              "      border: none;\n",
              "      border-radius: 50%;\n",
              "      cursor: pointer;\n",
              "      display: none;\n",
              "      fill: #1967D2;\n",
              "      height: 32px;\n",
              "      padding: 0 0 0 0;\n",
              "      width: 32px;\n",
              "    }\n",
              "\n",
              "    .colab-df-convert:hover {\n",
              "      background-color: #E2EBFA;\n",
              "      box-shadow: 0px 1px 2px rgba(60, 64, 67, 0.3), 0px 1px 3px 1px rgba(60, 64, 67, 0.15);\n",
              "      fill: #174EA6;\n",
              "    }\n",
              "\n",
              "    .colab-df-buttons div {\n",
              "      margin-bottom: 4px;\n",
              "    }\n",
              "\n",
              "    [theme=dark] .colab-df-convert {\n",
              "      background-color: #3B4455;\n",
              "      fill: #D2E3FC;\n",
              "    }\n",
              "\n",
              "    [theme=dark] .colab-df-convert:hover {\n",
              "      background-color: #434B5C;\n",
              "      box-shadow: 0px 1px 3px 1px rgba(0, 0, 0, 0.15);\n",
              "      filter: drop-shadow(0px 1px 2px rgba(0, 0, 0, 0.3));\n",
              "      fill: #FFFFFF;\n",
              "    }\n",
              "  </style>\n",
              "\n",
              "    <script>\n",
              "      const buttonEl =\n",
              "        document.querySelector('#df-39a4b8ab-6120-4118-8b4e-a7daeeab4766 button.colab-df-convert');\n",
              "      buttonEl.style.display =\n",
              "        google.colab.kernel.accessAllowed ? 'block' : 'none';\n",
              "\n",
              "      async function convertToInteractive(key) {\n",
              "        const element = document.querySelector('#df-39a4b8ab-6120-4118-8b4e-a7daeeab4766');\n",
              "        const dataTable =\n",
              "          await google.colab.kernel.invokeFunction('convertToInteractive',\n",
              "                                                    [key], {});\n",
              "        if (!dataTable) return;\n",
              "\n",
              "        const docLinkHtml = 'Like what you see? Visit the ' +\n",
              "          '<a target=\"_blank\" href=https://colab.research.google.com/notebooks/data_table.ipynb>data table notebook</a>'\n",
              "          + ' to learn more about interactive tables.';\n",
              "        element.innerHTML = '';\n",
              "        dataTable['output_type'] = 'display_data';\n",
              "        await google.colab.output.renderOutput(dataTable, element);\n",
              "        const docLink = document.createElement('div');\n",
              "        docLink.innerHTML = docLinkHtml;\n",
              "        element.appendChild(docLink);\n",
              "      }\n",
              "    </script>\n",
              "  </div>\n",
              "\n",
              "\n",
              "<div id=\"df-f6ecbe57-ec07-4d69-95fc-be2abd9998da\">\n",
              "  <button class=\"colab-df-quickchart\" onclick=\"quickchart('df-f6ecbe57-ec07-4d69-95fc-be2abd9998da')\"\n",
              "            title=\"Suggest charts\"\n",
              "            style=\"display:none;\">\n",
              "\n",
              "<svg xmlns=\"http://www.w3.org/2000/svg\" height=\"24px\"viewBox=\"0 0 24 24\"\n",
              "     width=\"24px\">\n",
              "    <g>\n",
              "        <path d=\"M19 3H5c-1.1 0-2 .9-2 2v14c0 1.1.9 2 2 2h14c1.1 0 2-.9 2-2V5c0-1.1-.9-2-2-2zM9 17H7v-7h2v7zm4 0h-2V7h2v10zm4 0h-2v-4h2v4z\"/>\n",
              "    </g>\n",
              "</svg>\n",
              "  </button>\n",
              "\n",
              "<style>\n",
              "  .colab-df-quickchart {\n",
              "      --bg-color: #E8F0FE;\n",
              "      --fill-color: #1967D2;\n",
              "      --hover-bg-color: #E2EBFA;\n",
              "      --hover-fill-color: #174EA6;\n",
              "      --disabled-fill-color: #AAA;\n",
              "      --disabled-bg-color: #DDD;\n",
              "  }\n",
              "\n",
              "  [theme=dark] .colab-df-quickchart {\n",
              "      --bg-color: #3B4455;\n",
              "      --fill-color: #D2E3FC;\n",
              "      --hover-bg-color: #434B5C;\n",
              "      --hover-fill-color: #FFFFFF;\n",
              "      --disabled-bg-color: #3B4455;\n",
              "      --disabled-fill-color: #666;\n",
              "  }\n",
              "\n",
              "  .colab-df-quickchart {\n",
              "    background-color: var(--bg-color);\n",
              "    border: none;\n",
              "    border-radius: 50%;\n",
              "    cursor: pointer;\n",
              "    display: none;\n",
              "    fill: var(--fill-color);\n",
              "    height: 32px;\n",
              "    padding: 0;\n",
              "    width: 32px;\n",
              "  }\n",
              "\n",
              "  .colab-df-quickchart:hover {\n",
              "    background-color: var(--hover-bg-color);\n",
              "    box-shadow: 0 1px 2px rgba(60, 64, 67, 0.3), 0 1px 3px 1px rgba(60, 64, 67, 0.15);\n",
              "    fill: var(--button-hover-fill-color);\n",
              "  }\n",
              "\n",
              "  .colab-df-quickchart-complete:disabled,\n",
              "  .colab-df-quickchart-complete:disabled:hover {\n",
              "    background-color: var(--disabled-bg-color);\n",
              "    fill: var(--disabled-fill-color);\n",
              "    box-shadow: none;\n",
              "  }\n",
              "\n",
              "  .colab-df-spinner {\n",
              "    border: 2px solid var(--fill-color);\n",
              "    border-color: transparent;\n",
              "    border-bottom-color: var(--fill-color);\n",
              "    animation:\n",
              "      spin 1s steps(1) infinite;\n",
              "  }\n",
              "\n",
              "  @keyframes spin {\n",
              "    0% {\n",
              "      border-color: transparent;\n",
              "      border-bottom-color: var(--fill-color);\n",
              "      border-left-color: var(--fill-color);\n",
              "    }\n",
              "    20% {\n",
              "      border-color: transparent;\n",
              "      border-left-color: var(--fill-color);\n",
              "      border-top-color: var(--fill-color);\n",
              "    }\n",
              "    30% {\n",
              "      border-color: transparent;\n",
              "      border-left-color: var(--fill-color);\n",
              "      border-top-color: var(--fill-color);\n",
              "      border-right-color: var(--fill-color);\n",
              "    }\n",
              "    40% {\n",
              "      border-color: transparent;\n",
              "      border-right-color: var(--fill-color);\n",
              "      border-top-color: var(--fill-color);\n",
              "    }\n",
              "    60% {\n",
              "      border-color: transparent;\n",
              "      border-right-color: var(--fill-color);\n",
              "    }\n",
              "    80% {\n",
              "      border-color: transparent;\n",
              "      border-right-color: var(--fill-color);\n",
              "      border-bottom-color: var(--fill-color);\n",
              "    }\n",
              "    90% {\n",
              "      border-color: transparent;\n",
              "      border-bottom-color: var(--fill-color);\n",
              "    }\n",
              "  }\n",
              "</style>\n",
              "\n",
              "  <script>\n",
              "    async function quickchart(key) {\n",
              "      const quickchartButtonEl =\n",
              "        document.querySelector('#' + key + ' button');\n",
              "      quickchartButtonEl.disabled = true;  // To prevent multiple clicks.\n",
              "      quickchartButtonEl.classList.add('colab-df-spinner');\n",
              "      try {\n",
              "        const charts = await google.colab.kernel.invokeFunction(\n",
              "            'suggestCharts', [key], {});\n",
              "      } catch (error) {\n",
              "        console.error('Error during call to suggestCharts:', error);\n",
              "      }\n",
              "      quickchartButtonEl.classList.remove('colab-df-spinner');\n",
              "      quickchartButtonEl.classList.add('colab-df-quickchart-complete');\n",
              "    }\n",
              "    (() => {\n",
              "      let quickchartButtonEl =\n",
              "        document.querySelector('#df-f6ecbe57-ec07-4d69-95fc-be2abd9998da button');\n",
              "      quickchartButtonEl.style.display =\n",
              "        google.colab.kernel.accessAllowed ? 'block' : 'none';\n",
              "    })();\n",
              "  </script>\n",
              "</div>\n",
              "    </div>\n",
              "  </div>\n"
            ]
          },
          "metadata": {},
          "execution_count": 511
        }
      ],
      "source": [
        "df.head()"
      ]
    },
    {
      "cell_type": "markdown",
      "metadata": {
        "id": "LQF0nr6nJ2v0"
      },
      "source": [
        "**Assess data**"
      ]
    },
    {
      "cell_type": "code",
      "execution_count": 512,
      "metadata": {
        "colab": {
          "base_uri": "https://localhost:8080/"
        },
        "id": "Oie59mn7rpzQ",
        "outputId": "f6e3251e-9361-4f73-cade-f8c7ff7dadcd"
      },
      "outputs": [
        {
          "output_type": "stream",
          "name": "stdout",
          "text": [
            "<class 'pandas.core.frame.DataFrame'>\n",
            "RangeIndex: 2544 entries, 0 to 2543\n",
            "Data columns (total 16 columns):\n",
            " #   Column                       Non-Null Count  Dtype  \n",
            "---  ------                       --------------  -----  \n",
            " 0   id                           2544 non-null   int64  \n",
            " 1   pathrise_status              2544 non-null   object \n",
            " 2   primary_track                2544 non-null   object \n",
            " 3   cohort_tag                   2536 non-null   object \n",
            " 4   program_duration_days        1928 non-null   float64\n",
            " 5   placed                       2544 non-null   int64  \n",
            " 6   employment_status            2315 non-null   object \n",
            " 7   highest_level_of_education   2486 non-null   object \n",
            " 8   length_of_job_search         2470 non-null   object \n",
            " 9   biggest_challenge_in_search  2520 non-null   object \n",
            " 10  professional_experience      2322 non-null   object \n",
            " 11  work_authorization_status    2260 non-null   object \n",
            " 12  number_of_interviews         2326 non-null   float64\n",
            " 13  number_of_applications       2544 non-null   int64  \n",
            " 14  gender                       2052 non-null   object \n",
            " 15  race                         2526 non-null   object \n",
            "dtypes: float64(2), int64(3), object(11)\n",
            "memory usage: 318.1+ KB\n"
          ]
        }
      ],
      "source": [
        "df.info()"
      ]
    },
    {
      "cell_type": "markdown",
      "metadata": {
        "id": "Gkv8V7AlszBf"
      },
      "source": [
        "**Cleaning Data**"
      ]
    },
    {
      "cell_type": "markdown",
      "metadata": {
        "id": "fsUcuTs0L9tI"
      },
      "source": [
        "**According to the domain knowledge, there are several factors that are singnificantly important to find a job such as : Work experience  ,Level of education, Job position , ....**\n",
        "\n",
        " **In this part , it is highly apppreciated to clean the data efficiently **"
      ]
    },
    {
      "cell_type": "code",
      "execution_count": 513,
      "metadata": {
        "colab": {
          "base_uri": "https://localhost:8080/"
        },
        "id": "cx8cZntQ2gE9",
        "outputId": "9b40fbbd-c6cc-4b24-c888-5c22b88d140d"
      },
      "outputs": [
        {
          "output_type": "execute_result",
          "data": {
            "text/plain": [
              "Citizen           1104\n",
              "F1 Visa/OPT        644\n",
              "missing value      284\n",
              "Green Card         184\n",
              "F1 Visa/CPT        132\n",
              "Other              112\n",
              "H1B                 48\n",
              "Canada Citizen      24\n",
              "STEM OPT             8\n",
              "Not Authorized       4\n",
              "Name: work_authorization_status, dtype: int64"
            ]
          },
          "metadata": {},
          "execution_count": 513
        }
      ],
      "source": [
        "df['work_authorization_status'].fillna('missing value' , inplace = True)\n",
        "df['work_authorization_status'].value_counts()"
      ]
    },
    {
      "cell_type": "code",
      "execution_count": 514,
      "metadata": {
        "id": "NTMQgXPk7RFy"
      },
      "outputs": [],
      "source": [
        "df = df[~df['work_authorization_status'].str.contains('missing value')]\n",
        "df=df[df['work_authorization_status'] != 'Not Authorized']"
      ]
    },
    {
      "cell_type": "code",
      "execution_count": 515,
      "metadata": {
        "id": "Rm3mhjeZ8ThC"
      },
      "outputs": [],
      "source": [
        "def author(x) :\n",
        "  if ('Citizen' in x) or ('Canada Citizen' in x) or ('Green Card' in x) :\n",
        "    return 'Authorized'\n",
        "  elif ('F1 Visa/CPT' in x) or ('F1 Visa/OPT' in x) :\n",
        "    return 'Visa'\n",
        "  else :\n",
        "    return 'other'"
      ]
    },
    {
      "cell_type": "code",
      "execution_count": 516,
      "metadata": {
        "id": "9-CL0rAe-2VX"
      },
      "outputs": [],
      "source": [
        "df['work_authorization_status']= df['work_authorization_status'].apply(author)"
      ]
    },
    {
      "cell_type": "code",
      "execution_count": 517,
      "metadata": {
        "colab": {
          "base_uri": "https://localhost:8080/",
          "height": 534
        },
        "id": "iuZ8FxYyK90B",
        "outputId": "5f060077-a93e-45ad-b12b-b7011a89f6d2"
      },
      "outputs": [
        {
          "output_type": "execute_result",
          "data": {
            "text/plain": [
              "(array([0, 1, 2]),\n",
              " [Text(0, 0, 'Authorized'), Text(1, 0, 'Visa'), Text(2, 0, 'other')])"
            ]
          },
          "metadata": {},
          "execution_count": 517
        },
        {
          "output_type": "display_data",
          "data": {
            "text/plain": [
              "<Figure size 640x480 with 1 Axes>"
            ],
            "image/png": "[encoded data removed]"
          },
          "metadata": {}
        }
      ],
      "source": [
        "sns.countplot(x = 'work_authorization_status' , data = df)\n",
        "plt.xticks(rotation = 45)"
      ]
    },
    {
      "cell_type": "code",
      "execution_count": 518,
      "metadata": {
        "colab": {
          "base_uri": "https://localhost:8080/"
        },
        "id": "D4wb-bkS-_Yz",
        "outputId": "a4d92a03-f93b-4703-f868-22fec6235b24"
      },
      "outputs": [
        {
          "output_type": "execute_result",
          "data": {
            "text/plain": [
              "SWE          1489\n",
              "PSO           292\n",
              "Design        249\n",
              "Data          219\n",
              "Web             5\n",
              "Marketing       2\n",
              "Name: primary_track, dtype: int64"
            ]
          },
          "metadata": {},
          "execution_count": 518
        }
      ],
      "source": [
        "df['primary_track'].fillna('missing value' , inplace = True)\n",
        "df['primary_track'].value_counts()"
      ]
    },
    {
      "cell_type": "code",
      "execution_count": 519,
      "metadata": {
        "colab": {
          "base_uri": "https://localhost:8080/",
          "height": 467
        },
        "id": "R74xu3i6MtOi",
        "outputId": "019d91e7-3e20-434e-ae4d-e3b119fee575"
      },
      "outputs": [
        {
          "output_type": "execute_result",
          "data": {
            "text/plain": [
              "<Axes: xlabel='primary_track', ylabel='count'>"
            ]
          },
          "metadata": {},
          "execution_count": 519
        },
        {
          "output_type": "display_data",
          "data": {
            "text/plain": [
              "<Figure size 640x480 with 1 Axes>"
            ],
            "image/png": "[encoded data removed]"
          },
          "metadata": {}
        }
      ],
      "source": [
        "sns.countplot( x = 'primary_track' , data = df)"
      ]
    },
    {
      "cell_type": "code",
      "source": [
        "sns.boxplot( x = 'program_duration_days' , data = df)"
      ],
      "metadata": {
        "colab": {
          "base_uri": "https://localhost:8080/",
          "height": 467
        },
        "id": "gos-vL82wg_E",
        "outputId": "681b4f24-878f-4db4-85ff-dc0311dcc1fd"
      },
      "execution_count": 521,
      "outputs": [
        {
          "output_type": "execute_result",
          "data": {
            "text/plain": [
              "<Axes: xlabel='program_duration_days'>"
            ]
          },
          "metadata": {},
          "execution_count": 521
        },
        {
          "output_type": "display_data",
          "data": {
            "text/plain": [
              "<Figure size 640x480 with 1 Axes>"
            ],
            "image/png": "[encoded data removed]"
          },
          "metadata": {}
        }
      ]
    },
    {
      "cell_type": "code",
      "execution_count": 524,
      "metadata": {
        "id": "48U_nuG5_gtM"
      },
      "outputs": [],
      "source": [
        "df['program_duration_days'].fillna('missing value' , inplace = True)"
      ]
    },
    {
      "cell_type": "markdown",
      "metadata": {
        "id": "6e46v-1-V5pq"
      },
      "source": [
        "# **If a fellow is unable to find a job within a year after joining Pathrise,his/her contract is terminated**"
      ]
    },
    {
      "cell_type": "code",
      "execution_count": 525,
      "metadata": {
        "id": "Wg7wjaBIGoqP"
      },
      "outputs": [],
      "source": [
        "df = df[df['program_duration_days'] != 'missing value']\n",
        "df = df[df['program_duration_days'] <= 365]\n",
        "df['program_duration_days']= df['program_duration_days'].astype(int)"
      ]
    },
    {
      "cell_type": "code",
      "execution_count": 526,
      "metadata": {
        "colab": {
          "base_uri": "https://localhost:8080/",
          "height": 523
        },
        "id": "cRpLJh_wP0TX",
        "outputId": "e2321143-ab6b-42e8-f716-b743e0e5ad7f"
      },
      "outputs": [
        {
          "output_type": "execute_result",
          "data": {
            "text/plain": [
              "<seaborn.axisgrid.FacetGrid at 0x7dca91c3e8c0>"
            ]
          },
          "metadata": {},
          "execution_count": 526
        },
        {
          "output_type": "display_data",
          "data": {
            "text/plain": [
              "<Figure size 500x500 with 1 Axes>"
            ],
            "image/png": "[encoded data removed]"
          },
          "metadata": {}
        }
      ],
      "source": [
        "sns.displot(x = 'program_duration_days' , data = df , bins = 20)"
      ]
    },
    {
      "cell_type": "code",
      "execution_count": 528,
      "metadata": {
        "colab": {
          "base_uri": "https://localhost:8080/"
        },
        "id": "tQ_C9oxHDFL_",
        "outputId": "37a35189-3ec4-44d8-9371-3b6d23ccaa2b"
      },
      "outputs": [
        {
          "output_type": "execute_result",
          "data": {
            "text/plain": [
              "1-2 years             545\n",
              "Less than one year    412\n",
              "3-4 years             370\n",
              "5+ years              176\n",
              "missing value         133\n",
              "Name: professional_experience, dtype: int64"
            ]
          },
          "metadata": {},
          "execution_count": 528
        }
      ],
      "source": [
        "df['professional_experience'].fillna('missing value' , inplace = True)\n",
        "df['professional_experience'].value_counts()"
      ]
    },
    {
      "cell_type": "code",
      "execution_count": 529,
      "metadata": {
        "id": "_Bj7Es5xPccF"
      },
      "outputs": [],
      "source": [
        "df = df[~df['professional_experience'].str.contains('missing value')]"
      ]
    },
    {
      "cell_type": "code",
      "execution_count": 530,
      "metadata": {
        "id": "A7OiyuOd3auF"
      },
      "outputs": [],
      "source": [
        "def pro_ex(x):\n",
        "  if ('Less than one year' in x) or ('missing value' in x):\n",
        "    return 'intern'\n",
        "  elif ('1-2 years' in x) or ('3-4 years'in x) :\n",
        "    return 'Junior'\n",
        "  else :\n",
        "    return 'Senior'"
      ]
    },
    {
      "cell_type": "code",
      "execution_count": 531,
      "metadata": {
        "id": "oSLYQXBc6fpt"
      },
      "outputs": [],
      "source": [
        "df['professional_experience'] = df['professional_experience'].apply(pro_ex)"
      ]
    },
    {
      "cell_type": "code",
      "source": [
        "sns.countplot( x = 'professional_experience' , data = df)"
      ],
      "metadata": {
        "colab": {
          "base_uri": "https://localhost:8080/",
          "height": 467
        },
        "id": "hYQ44t5PtYTx",
        "outputId": "af33ea94-1656-4888-db44-2f15111f476e"
      },
      "execution_count": 532,
      "outputs": [
        {
          "output_type": "execute_result",
          "data": {
            "text/plain": [
              "<Axes: xlabel='professional_experience', ylabel='count'>"
            ]
          },
          "metadata": {},
          "execution_count": 532
        },
        {
          "output_type": "display_data",
          "data": {
            "text/plain": [
              "<Figure size 640x480 with 1 Axes>"
            ],
            "image/png": "[encoded data removed]"
          },
          "metadata": {}
        }
      ]
    },
    {
      "cell_type": "code",
      "execution_count": 533,
      "metadata": {
        "colab": {
          "base_uri": "https://localhost:8080/"
        },
        "id": "8tD5HMZMGX3F",
        "outputId": "43d5f1c1-162e-49c0-8798-66927233b4c0"
      },
      "outputs": [
        {
          "output_type": "execute_result",
          "data": {
            "text/plain": [
              "Bachelor's Degree                   810\n",
              "Master's Degree                     460\n",
              "Some College, No Degree              87\n",
              "Doctorate or Professional Degree     79\n",
              "missing value                        34\n",
              "GED or equivalent                    12\n",
              "High School Graduate                 11\n",
              "Some High School                     10\n",
              "Name: highest_level_of_education, dtype: int64"
            ]
          },
          "metadata": {},
          "execution_count": 533
        }
      ],
      "source": [
        "df['highest_level_of_education'].fillna('missing value' , inplace = True)\n",
        "df['highest_level_of_education'].value_counts()"
      ]
    },
    {
      "cell_type": "code",
      "execution_count": 534,
      "metadata": {
        "id": "PbA513tORSd4"
      },
      "outputs": [],
      "source": [
        "#df = df[~df['highest_level_of_education'].str.contains('missing value')]"
      ]
    },
    {
      "cell_type": "code",
      "execution_count": 535,
      "metadata": {
        "id": "2hKQsJeR1tCM"
      },
      "outputs": [],
      "source": [
        "def degree_level(x) :\n",
        "  if \"Bachelor's Degree\" in x :\n",
        "    return 'BS'\n",
        "  elif \"Master's Degree\" in x :\n",
        "    return 'MS'\n",
        "  elif 'Doctorate or Professional Degree' in x :\n",
        "    return 'PHD'\n",
        "  elif 'Some College, No Degree' in x :\n",
        "    return 'college degree'\n",
        "  else :\n",
        "    return 'other'"
      ]
    },
    {
      "cell_type": "code",
      "execution_count": 536,
      "metadata": {
        "id": "GQG0sXKe1tgy"
      },
      "outputs": [],
      "source": [
        "df['highest_level_of_education'] = df['highest_level_of_education'].apply(degree_level)"
      ]
    },
    {
      "cell_type": "code",
      "execution_count": 537,
      "metadata": {
        "colab": {
          "base_uri": "https://localhost:8080/",
          "height": 467
        },
        "id": "6DNKi6xhDAF3",
        "outputId": "8dee61cd-e441-46f2-9110-953825eba38a"
      },
      "outputs": [
        {
          "output_type": "execute_result",
          "data": {
            "text/plain": [
              "<Axes: xlabel='highest_level_of_education', ylabel='count'>"
            ]
          },
          "metadata": {},
          "execution_count": 537
        },
        {
          "output_type": "display_data",
          "data": {
            "text/plain": [
              "<Figure size 640x480 with 1 Axes>"
            ],
            "image/png": "[encoded data removed]"
          },
          "metadata": {}
        }
      ],
      "source": [
        "sns.countplot(x = 'highest_level_of_education' , data = df)"
      ]
    },
    {
      "cell_type": "code",
      "execution_count": 538,
      "metadata": {
        "colab": {
          "base_uri": "https://localhost:8080/"
        },
        "id": "U-sk_5DGwY_8",
        "outputId": "6e68e6d3-66a2-4396-d59a-383dba7052c9"
      },
      "outputs": [
        {
          "output_type": "execute_result",
          "data": {
            "text/plain": [
              "Student               440\n",
              "Unemployed            399\n",
              "Employed Full-Time    256\n",
              "Employed Part-Time    157\n",
              "missing value         145\n",
              "Contractor            106\n",
              "Name: employment_status , dtype: int64"
            ]
          },
          "metadata": {},
          "execution_count": 538
        }
      ],
      "source": [
        "df['employment_status '].fillna('missing value' , inplace = True)\n",
        "df['employment_status '].value_counts()"
      ]
    },
    {
      "cell_type": "code",
      "execution_count": 539,
      "metadata": {
        "id": "PEMmcd7oLGjj"
      },
      "outputs": [],
      "source": [
        "#df = df[df['employment_status '] != 'missing value']"
      ]
    },
    {
      "cell_type": "code",
      "execution_count": 540,
      "metadata": {
        "id": "2Q2zWzTmzTb6"
      },
      "outputs": [],
      "source": [
        "def emploee(x) :\n",
        "  if ('Student' in x) or ('Unemploed' in x) :\n",
        "    return 'Unemploed'\n",
        "  else :\n",
        "    return 'Employed'"
      ]
    },
    {
      "cell_type": "code",
      "execution_count": 541,
      "metadata": {
        "id": "vYoeYtVh0Y33"
      },
      "outputs": [],
      "source": [
        "df['employment_status '] = df['employment_status '].apply(emploee)"
      ]
    },
    {
      "cell_type": "code",
      "execution_count": 542,
      "metadata": {
        "colab": {
          "base_uri": "https://localhost:8080/",
          "height": 467
        },
        "id": "liIiFXeowZDZ",
        "outputId": "82f10b68-27ed-436e-9a6c-9bc0fb9815cb"
      },
      "outputs": [
        {
          "output_type": "execute_result",
          "data": {
            "text/plain": [
              "<Axes: xlabel='employment_status ', ylabel='count'>"
            ]
          },
          "metadata": {},
          "execution_count": 542
        },
        {
          "output_type": "display_data",
          "data": {
            "text/plain": [
              "<Figure size 640x480 with 1 Axes>"
            ],
            "image/png": "[encoded data removed]"
          },
          "metadata": {}
        }
      ],
      "source": [
        "sns.countplot( x = 'employment_status ' , data = df)"
      ]
    },
    {
      "cell_type": "code",
      "source": [
        "df.info()"
      ],
      "metadata": {
        "colab": {
          "base_uri": "https://localhost:8080/"
        },
        "id": "eM5HZruUwD36",
        "outputId": "47e57353-a0e5-4ef4-e7dc-59d965a50da6"
      },
      "execution_count": 543,
      "outputs": [
        {
          "output_type": "stream",
          "name": "stdout",
          "text": [
            "<class 'pandas.core.frame.DataFrame'>\n",
            "Int64Index: 1503 entries, 2 to 2543\n",
            "Data columns (total 16 columns):\n",
            " #   Column                       Non-Null Count  Dtype  \n",
            "---  ------                       --------------  -----  \n",
            " 0   id                           1503 non-null   int64  \n",
            " 1   pathrise_status              1503 non-null   object \n",
            " 2   primary_track                1503 non-null   object \n",
            " 3   cohort_tag                   1498 non-null   object \n",
            " 4   program_duration_days        1503 non-null   int64  \n",
            " 5   placed                       1503 non-null   int64  \n",
            " 6   employment_status            1503 non-null   object \n",
            " 7   highest_level_of_education   1503 non-null   object \n",
            " 8   length_of_job_search         1452 non-null   object \n",
            " 9   biggest_challenge_in_search  1490 non-null   object \n",
            " 10  professional_experience      1503 non-null   object \n",
            " 11  work_authorization_status    1503 non-null   object \n",
            " 12  number_of_interviews         1359 non-null   float64\n",
            " 13  number_of_applications       1503 non-null   int64  \n",
            " 14  gender                       1228 non-null   object \n",
            " 15  race                         1494 non-null   object \n",
            "dtypes: float64(1), int64(4), object(11)\n",
            "memory usage: 199.6+ KB\n"
          ]
        }
      ]
    },
    {
      "cell_type": "code",
      "execution_count": 544,
      "metadata": {
        "id": "AbOwH4GxErWP"
      },
      "outputs": [],
      "source": [
        "cleaned_df = df[['highest_level_of_education', 'professional_experience' , 'program_duration_days' ,\n",
        "'work_authorization_status','primary_track' , 'placed' , 'employment_status ']]"
      ]
    },
    {
      "cell_type": "code",
      "execution_count": 545,
      "metadata": {
        "colab": {
          "base_uri": "https://localhost:8080/"
        },
        "id": "_mMzP2KuGKcx",
        "outputId": "30dd4601-4195-4588-f9a3-aff45c61e25a"
      },
      "outputs": [
        {
          "output_type": "stream",
          "name": "stdout",
          "text": [
            "<class 'pandas.core.frame.DataFrame'>\n",
            "Int64Index: 1503 entries, 2 to 2543\n",
            "Data columns (total 7 columns):\n",
            " #   Column                      Non-Null Count  Dtype \n",
            "---  ------                      --------------  ----- \n",
            " 0   highest_level_of_education  1503 non-null   object\n",
            " 1   professional_experience     1503 non-null   object\n",
            " 2   program_duration_days       1503 non-null   int64 \n",
            " 3   work_authorization_status   1503 non-null   object\n",
            " 4   primary_track               1503 non-null   object\n",
            " 5   placed                      1503 non-null   int64 \n",
            " 6   employment_status           1503 non-null   object\n",
            "dtypes: int64(2), object(5)\n",
            "memory usage: 93.9+ KB\n"
          ]
        }
      ],
      "source": [
        "# in this part we have a cleaned data . now we can reach the goal .\n",
        "cleaned_df.info()"
      ]
    },
    {
      "cell_type": "markdown",
      "source": [
        "# **Exploratory Data Analysis (EDA)**"
      ],
      "metadata": {
        "id": "d5TTM5g_uRYG"
      }
    },
    {
      "cell_type": "code",
      "execution_count": 546,
      "metadata": {
        "colab": {
          "base_uri": "https://localhost:8080/",
          "height": 530
        },
        "id": "kAmqFV7nJknY",
        "outputId": "92a971fc-e448-4dbf-d241-bb7124c4e1bf"
      },
      "outputs": [
        {
          "output_type": "execute_result",
          "data": {
            "text/plain": [
              "<seaborn.axisgrid.PairGrid at 0x7dca918f7a00>"
            ]
          },
          "metadata": {},
          "execution_count": 546
        },
        {
          "output_type": "display_data",
          "data": {
            "text/plain": [
              "<Figure size 500x500 with 6 Axes>"
            ],
            "image/png": "[encoded data removed]"
          },
          "metadata": {}
        }
      ],
      "source": [
        "sns.pairplot(cleaned_df)"
      ]
    },
    {
      "cell_type": "code",
      "source": [
        "sns.scatterplot(x = 'program_duration_days' , y = 'placed' , data = cleaned_df , hue = 'primary_track')"
      ],
      "metadata": {
        "colab": {
          "base_uri": "https://localhost:8080/",
          "height": 467
        },
        "id": "5HZ6S9YAvkjV",
        "outputId": "799c364a-98bd-46b2-ab1d-191147584b76"
      },
      "execution_count": 581,
      "outputs": [
        {
          "output_type": "execute_result",
          "data": {
            "text/plain": [
              "<Axes: xlabel='program_duration_days', ylabel='placed'>"
            ]
          },
          "metadata": {},
          "execution_count": 581
        },
        {
          "output_type": "display_data",
          "data": {
            "text/plain": [
              "<Figure size 640x480 with 1 Axes>"
            ],
            "image/png": "[encoded data removed]"
          },
          "metadata": {}
        }
      ]
    },
    {
      "cell_type": "markdown",
      "metadata": {
        "id": "PGeON3muYJm1"
      },
      "source": [
        "# **Feature Engineering**"
      ]
    },
    {
      "cell_type": "code",
      "execution_count": 548,
      "metadata": {
        "id": "TWS98Pu3Qi06"
      },
      "outputs": [],
      "source": [
        "preprocessed_df = pd.get_dummies(cleaned_df , columns = ['highest_level_of_education' , 'professional_experience' ,\n",
        "                                                         'work_authorization_status' ,'primary_track' , 'employment_status ' ])"
      ]
    },
    {
      "cell_type": "code",
      "execution_count": 549,
      "metadata": {
        "colab": {
          "base_uri": "https://localhost:8080/"
        },
        "id": "MEvKoYpBULS5",
        "outputId": "d4a8dc26-d32c-468c-b10a-d8351bd82175"
      },
      "outputs": [
        {
          "output_type": "stream",
          "name": "stdout",
          "text": [
            "<class 'pandas.core.frame.DataFrame'>\n",
            "Int64Index: 1503 entries, 2 to 2543\n",
            "Data columns (total 21 columns):\n",
            " #   Column                                     Non-Null Count  Dtype\n",
            "---  ------                                     --------------  -----\n",
            " 0   program_duration_days                      1503 non-null   int64\n",
            " 1   placed                                     1503 non-null   int64\n",
            " 2   highest_level_of_education_BS              1503 non-null   uint8\n",
            " 3   highest_level_of_education_MS              1503 non-null   uint8\n",
            " 4   highest_level_of_education_PHD             1503 non-null   uint8\n",
            " 5   highest_level_of_education_college degree  1503 non-null   uint8\n",
            " 6   highest_level_of_education_other           1503 non-null   uint8\n",
            " 7   professional_experience_Junior             1503 non-null   uint8\n",
            " 8   professional_experience_Senior             1503 non-null   uint8\n",
            " 9   professional_experience_intern             1503 non-null   uint8\n",
            " 10  work_authorization_status_Authorized       1503 non-null   uint8\n",
            " 11  work_authorization_status_Visa             1503 non-null   uint8\n",
            " 12  work_authorization_status_other            1503 non-null   uint8\n",
            " 13  primary_track_Data                         1503 non-null   uint8\n",
            " 14  primary_track_Design                       1503 non-null   uint8\n",
            " 15  primary_track_Marketing                    1503 non-null   uint8\n",
            " 16  primary_track_PSO                          1503 non-null   uint8\n",
            " 17  primary_track_SWE                          1503 non-null   uint8\n",
            " 18  primary_track_Web                          1503 non-null   uint8\n",
            " 19  employment_status _Employed                1503 non-null   uint8\n",
            " 20  employment_status _Unemploed               1503 non-null   uint8\n",
            "dtypes: int64(2), uint8(19)\n",
            "memory usage: 63.1 KB\n"
          ]
        }
      ],
      "source": [
        "preprocessed_df.info()"
      ]
    },
    {
      "cell_type": "code",
      "execution_count": 550,
      "metadata": {
        "id": "oo4x9UlvUPKw"
      },
      "outputs": [],
      "source": [
        "# Responding to first question : If a fellow will ultimately be placed at a company ?\n",
        "# independent variable called 'y' is : 'PLaced'\n",
        "# dependent variable is the others"
      ]
    },
    {
      "cell_type": "code",
      "execution_count": 551,
      "metadata": {
        "id": "x0xl92zqWqBe"
      },
      "outputs": [],
      "source": [
        "y = preprocessed_df['placed']"
      ]
    },
    {
      "cell_type": "code",
      "execution_count": 552,
      "metadata": {
        "id": "VuJzQylHXvbk"
      },
      "outputs": [],
      "source": [
        "x= preprocessed_df.drop(columns = 'placed')"
      ]
    },
    {
      "cell_type": "markdown",
      "metadata": {
        "id": "L8OeTEPSYVGy"
      },
      "source": [
        "# **Modeling**"
      ]
    },
    {
      "cell_type": "code",
      "execution_count": 553,
      "metadata": {
        "id": "bKffKJHrVeFu"
      },
      "outputs": [],
      "source": [
        "from sklearn.model_selection import train_test_split"
      ]
    },
    {
      "cell_type": "code",
      "execution_count": 554,
      "metadata": {
        "id": "InJ3-216VRLd"
      },
      "outputs": [],
      "source": [
        "x_train , x_test , y_train , y_test = train_test_split(x, y , test_size= .3 , random_state= 101)"
      ]
    },
    {
      "cell_type": "code",
      "execution_count": 555,
      "metadata": {
        "id": "eKOOwulBbi7N"
      },
      "outputs": [],
      "source": [
        "from sklearn.linear_model import LogisticRegression"
      ]
    },
    {
      "cell_type": "code",
      "execution_count": 556,
      "metadata": {
        "id": "_BmPsCZnb1d9"
      },
      "outputs": [],
      "source": [
        "logreg = LogisticRegression()"
      ]
    },
    {
      "cell_type": "code",
      "execution_count": 557,
      "metadata": {
        "colab": {
          "base_uri": "https://localhost:8080/",
          "height": 213
        },
        "id": "_6Xdy_Srb6sK",
        "outputId": "2b29207a-4745-47e6-a054-9523ffaecaf9"
      },
      "outputs": [
        {
          "output_type": "stream",
          "name": "stderr",
          "text": [
            "/usr/local/lib/python3.10/dist-packages/sklearn/linear_model/_logistic.py:458: ConvergenceWarning: lbfgs failed to converge (status=1):\n",
            "STOP: TOTAL NO. of ITERATIONS REACHED LIMIT.\n",
            "\n",
            "Increase the number of iterations (max_iter) or scale the data as shown in:\n",
            "    https://scikit-learn.org/stable/modules/preprocessing.html\n",
            "Please also refer to the documentation for alternative solver options:\n",
            "    https://scikit-learn.org/stable/modules/linear_model.html#logistic-regression\n",
            "  n_iter_i = _check_optimize_result(\n"
          ]
        },
        {
          "output_type": "execute_result",
          "data": {
            "text/plain": [
              "LogisticRegression()"
            ],
            "text/html": [
              "<style>#sk-container-id-13 {color: black;background-color: white;}#sk-container-id-13 pre{padding: 0;}#sk-container-id-13 div.sk-toggleable {background-color: white;}#sk-container-id-13 label.sk-toggleable__label {cursor: pointer;display: block;width: 100%;margin-bottom: 0;padding: 0.3em;box-sizing: border-box;text-align: center;}#sk-container-id-13 label.sk-toggleable__label-arrow:before {content: \"▸\";float: left;margin-right: 0.25em;color: #696969;}#sk-container-id-13 label.sk-toggleable__label-arrow:hover:before {color: black;}#sk-container-id-13 div.sk-estimator:hover label.sk-toggleable__label-arrow:before {color: black;}#sk-container-id-13 div.sk-toggleable__content {max-height: 0;max-width: 0;overflow: hidden;text-align: left;background-color: #f0f8ff;}#sk-container-id-13 div.sk-toggleable__content pre {margin: 0.2em;color: black;border-radius: 0.25em;background-color: #f0f8ff;}#sk-container-id-13 input.sk-toggleable__control:checked~div.sk-toggleable__content {max-height: 200px;max-width: 100%;overflow: auto;}#sk-container-id-13 input.sk-toggleable__control:checked~label.sk-toggleable__label-arrow:before {content: \"▾\";}#sk-container-id-13 div.sk-estimator input.sk-toggleable__control:checked~label.sk-toggleable__label {background-color: #d4ebff;}#sk-container-id-13 div.sk-label input.sk-toggleable__control:checked~label.sk-toggleable__label {background-color: #d4ebff;}#sk-container-id-13 input.sk-hidden--visually {border: 0;clip: rect(1px 1px 1px 1px);clip: rect(1px, 1px, 1px, 1px);height: 1px;margin: -1px;overflow: hidden;padding: 0;position: absolute;width: 1px;}#sk-container-id-13 div.sk-estimator {font-family: monospace;background-color: #f0f8ff;border: 1px dotted black;border-radius: 0.25em;box-sizing: border-box;margin-bottom: 0.5em;}#sk-container-id-13 div.sk-estimator:hover {background-color: #d4ebff;}#sk-container-id-13 div.sk-parallel-item::after {content: \"\";width: 100%;border-bottom: 1px solid gray;flex-grow: 1;}#sk-container-id-13 div.sk-label:hover label.sk-toggleable__label {background-color: #d4ebff;}#sk-container-id-13 div.sk-serial::before {content: \"\";position: absolute;border-left: 1px solid gray;box-sizing: border-box;top: 0;bottom: 0;left: 50%;z-index: 0;}#sk-container-id-13 div.sk-serial {display: flex;flex-direction: column;align-items: center;background-color: white;padding-right: 0.2em;padding-left: 0.2em;position: relative;}#sk-container-id-13 div.sk-item {position: relative;z-index: 1;}#sk-container-id-13 div.sk-parallel {display: flex;align-items: stretch;justify-content: center;background-color: white;position: relative;}#sk-container-id-13 div.sk-item::before, #sk-container-id-13 div.sk-parallel-item::before {content: \"\";position: absolute;border-left: 1px solid gray;box-sizing: border-box;top: 0;bottom: 0;left: 50%;z-index: -1;}#sk-container-id-13 div.sk-parallel-item {display: flex;flex-direction: column;z-index: 1;position: relative;background-color: white;}#sk-container-id-13 div.sk-parallel-item:first-child::after {align-self: flex-end;width: 50%;}#sk-container-id-13 div.sk-parallel-item:last-child::after {align-self: flex-start;width: 50%;}#sk-container-id-13 div.sk-parallel-item:only-child::after {width: 0;}#sk-container-id-13 div.sk-dashed-wrapped {border: 1px dashed gray;margin: 0 0.4em 0.5em 0.4em;box-sizing: border-box;padding-bottom: 0.4em;background-color: white;}#sk-container-id-13 div.sk-label label {font-family: monospace;font-weight: bold;display: inline-block;line-height: 1.2em;}#sk-container-id-13 div.sk-label-container {text-align: center;}#sk-container-id-13 div.sk-container {/* jupyter's `normalize.less` sets `[hidden] { display: none; }` but bootstrap.min.css set `[hidden] { display: none !important; }` so we also need the `!important` here to be able to override the default hidden behavior on the sphinx rendered scikit-learn.org. See: https://github.com/scikit-learn/scikit-learn/issues/21755 */display: inline-block !important;position: relative;}#sk-container-id-13 div.sk-text-repr-fallback {display: none;}</style><div id=\"sk-container-id-13\" class=\"sk-top-container\"><div class=\"sk-text-repr-fallback\"><pre>LogisticRegression()</pre><b>In a Jupyter environment, please rerun this cell to show the HTML representation or trust the notebook. <br />On GitHub, the HTML representation is unable to render, please try loading this page with nbviewer.org.</b></div><div class=\"sk-container\" hidden><div class=\"sk-item\"><div class=\"sk-estimator sk-toggleable\"><input class=\"sk-toggleable__control sk-hidden--visually\" id=\"sk-estimator-id-13\" type=\"checkbox\" checked><label for=\"sk-estimator-id-13\" class=\"sk-toggleable__label sk-toggleable__label-arrow\">LogisticRegression</label><div class=\"sk-toggleable__content\"><pre>LogisticRegression()</pre></div></div></div></div></div>"
            ]
          },
          "metadata": {},
          "execution_count": 557
        }
      ],
      "source": [
        "logreg.fit(x_train , y_train)"
      ]
    },
    {
      "cell_type": "code",
      "execution_count": 558,
      "metadata": {
        "id": "Oh6vH2VWdDuh"
      },
      "outputs": [],
      "source": [
        "prediction = logreg.predict(x_test)"
      ]
    },
    {
      "cell_type": "markdown",
      "metadata": {
        "id": "21S9B_5-YkTm"
      },
      "source": [
        "# **Evaluation**"
      ]
    },
    {
      "cell_type": "code",
      "execution_count": 559,
      "metadata": {
        "id": "gvn6wY1EdM5J"
      },
      "outputs": [],
      "source": [
        "from sklearn.metrics import confusion_matrix"
      ]
    },
    {
      "cell_type": "code",
      "execution_count": 560,
      "metadata": {
        "colab": {
          "base_uri": "https://localhost:8080/"
        },
        "id": "-JYJpHuqdcNh",
        "outputId": "c32786c7-6ae4-48f6-a63a-9cdbb5ce9779"
      },
      "outputs": [
        {
          "output_type": "execute_result",
          "data": {
            "text/plain": [
              "array([[154,  74],\n",
              "       [ 82, 141]])"
            ]
          },
          "metadata": {},
          "execution_count": 560
        }
      ],
      "source": [
        "confusion_matrix(y_test , prediction)"
      ]
    },
    {
      "cell_type": "code",
      "execution_count": 561,
      "metadata": {
        "id": "JGS99NneehqO"
      },
      "outputs": [],
      "source": [
        "from sklearn.metrics import classification_report"
      ]
    },
    {
      "cell_type": "code",
      "execution_count": 562,
      "metadata": {
        "colab": {
          "base_uri": "https://localhost:8080/"
        },
        "id": "lNXJqYdDeyaW",
        "outputId": "2ed10230-aa88-4fb9-f8bd-92f3c8e22fb9"
      },
      "outputs": [
        {
          "output_type": "stream",
          "name": "stdout",
          "text": [
            "              precision    recall  f1-score   support\n",
            "\n",
            "           0       0.65      0.68      0.66       228\n",
            "           1       0.66      0.63      0.64       223\n",
            "\n",
            "    accuracy                           0.65       451\n",
            "   macro avg       0.65      0.65      0.65       451\n",
            "weighted avg       0.65      0.65      0.65       451\n",
            "\n"
          ]
        }
      ],
      "source": [
        "print(classification_report(y_test , prediction))"
      ]
    },
    {
      "cell_type": "code",
      "execution_count": 563,
      "metadata": {
        "id": "763-64HGe8at"
      },
      "outputs": [],
      "source": [
        "from sklearn.metrics import accuracy_score"
      ]
    },
    {
      "cell_type": "code",
      "execution_count": 564,
      "metadata": {
        "colab": {
          "base_uri": "https://localhost:8080/"
        },
        "id": "SSHGAUayf8hJ",
        "outputId": "201bfabc-7963-40f4-f8c4-333753c08ca6"
      },
      "outputs": [
        {
          "output_type": "execute_result",
          "data": {
            "text/plain": [
              "0.6541019955654102"
            ]
          },
          "metadata": {},
          "execution_count": 564
        }
      ],
      "source": [
        "accuracy_score(y_test , prediction)"
      ]
    },
    {
      "cell_type": "markdown",
      "metadata": {
        "id": "qeHdiBcvYsXx"
      },
      "source": [
        "# ** Responding to second question : how long until a placement can be expected ؟.**"
      ]
    },
    {
      "cell_type": "code",
      "execution_count": 565,
      "metadata": {
        "id": "h2cqn5tNnyIY"
      },
      "outputs": [],
      "source": [
        "preprocessed_df = pd.get_dummies(cleaned_df , columns = ['highest_level_of_education' , 'professional_experience' ,\n",
        "                                                         'work_authorization_status' ,'primary_track' , 'employment_status ' ])"
      ]
    },
    {
      "cell_type": "code",
      "execution_count": 566,
      "metadata": {
        "colab": {
          "base_uri": "https://localhost:8080/"
        },
        "id": "rONGx1x2n0nJ",
        "outputId": "b7761ab1-e8ae-480f-91d5-f0200365a182"
      },
      "outputs": [
        {
          "output_type": "stream",
          "name": "stdout",
          "text": [
            "<class 'pandas.core.frame.DataFrame'>\n",
            "Int64Index: 1503 entries, 2 to 2543\n",
            "Data columns (total 21 columns):\n",
            " #   Column                                     Non-Null Count  Dtype\n",
            "---  ------                                     --------------  -----\n",
            " 0   program_duration_days                      1503 non-null   int64\n",
            " 1   placed                                     1503 non-null   int64\n",
            " 2   highest_level_of_education_BS              1503 non-null   uint8\n",
            " 3   highest_level_of_education_MS              1503 non-null   uint8\n",
            " 4   highest_level_of_education_PHD             1503 non-null   uint8\n",
            " 5   highest_level_of_education_college degree  1503 non-null   uint8\n",
            " 6   highest_level_of_education_other           1503 non-null   uint8\n",
            " 7   professional_experience_Junior             1503 non-null   uint8\n",
            " 8   professional_experience_Senior             1503 non-null   uint8\n",
            " 9   professional_experience_intern             1503 non-null   uint8\n",
            " 10  work_authorization_status_Authorized       1503 non-null   uint8\n",
            " 11  work_authorization_status_Visa             1503 non-null   uint8\n",
            " 12  work_authorization_status_other            1503 non-null   uint8\n",
            " 13  primary_track_Data                         1503 non-null   uint8\n",
            " 14  primary_track_Design                       1503 non-null   uint8\n",
            " 15  primary_track_Marketing                    1503 non-null   uint8\n",
            " 16  primary_track_PSO                          1503 non-null   uint8\n",
            " 17  primary_track_SWE                          1503 non-null   uint8\n",
            " 18  primary_track_Web                          1503 non-null   uint8\n",
            " 19  employment_status _Employed                1503 non-null   uint8\n",
            " 20  employment_status _Unemploed               1503 non-null   uint8\n",
            "dtypes: int64(2), uint8(19)\n",
            "memory usage: 63.1 KB\n"
          ]
        }
      ],
      "source": [
        "preprocessed_df.info()"
      ]
    },
    {
      "cell_type": "code",
      "execution_count": 567,
      "metadata": {
        "id": "vkqF7r2ln8Lt"
      },
      "outputs": [],
      "source": [
        "preprocessed_df = preprocessed_df[preprocessed_df['placed'] == 1]"
      ]
    },
    {
      "cell_type": "code",
      "execution_count": 568,
      "metadata": {
        "id": "215TdKF6oIS_"
      },
      "outputs": [],
      "source": [
        "preprocessed_df = preprocessed_df.drop(columns= 'placed')"
      ]
    },
    {
      "cell_type": "code",
      "execution_count": 569,
      "metadata": {
        "id": "qrEMIus-oS4W"
      },
      "outputs": [],
      "source": [
        "y = preprocessed_df['program_duration_days']"
      ]
    },
    {
      "cell_type": "code",
      "execution_count": 570,
      "metadata": {
        "id": "tyvONlbpoguL"
      },
      "outputs": [],
      "source": [
        "x = preprocessed_df.drop(columns = 'program_duration_days')"
      ]
    },
    {
      "cell_type": "code",
      "execution_count": 571,
      "metadata": {
        "id": "pCROPRVLonyG"
      },
      "outputs": [],
      "source": [
        "from sklearn.model_selection import train_test_split"
      ]
    },
    {
      "cell_type": "code",
      "execution_count": 572,
      "metadata": {
        "id": "XvkPdYIcou7B"
      },
      "outputs": [],
      "source": [
        "x_train , x_test , y_train , y_test = train_test_split(x, y , test_size= .4 , random_state= 101)"
      ]
    },
    {
      "cell_type": "code",
      "execution_count": 573,
      "metadata": {
        "id": "O2QyrGJBpFkI"
      },
      "outputs": [],
      "source": [
        "from sklearn.linear_model import LinearRegression"
      ]
    },
    {
      "cell_type": "code",
      "execution_count": 574,
      "metadata": {
        "id": "ZyceAXWApPyo"
      },
      "outputs": [],
      "source": [
        "#instantiate the model\n",
        "lr = LinearRegression()"
      ]
    },
    {
      "cell_type": "code",
      "execution_count": 575,
      "metadata": {
        "colab": {
          "base_uri": "https://localhost:8080/",
          "height": 74
        },
        "id": "W7yTKJP5pZPq",
        "outputId": "1d23b935-7cbc-4984-a3a7-e2ccaeaba90b"
      },
      "outputs": [
        {
          "output_type": "execute_result",
          "data": {
            "text/plain": [
              "LinearRegression()"
            ],
            "text/html": [
              "<style>#sk-container-id-14 {color: black;background-color: white;}#sk-container-id-14 pre{padding: 0;}#sk-container-id-14 div.sk-toggleable {background-color: white;}#sk-container-id-14 label.sk-toggleable__label {cursor: pointer;display: block;width: 100%;margin-bottom: 0;padding: 0.3em;box-sizing: border-box;text-align: center;}#sk-container-id-14 label.sk-toggleable__label-arrow:before {content: \"▸\";float: left;margin-right: 0.25em;color: #696969;}#sk-container-id-14 label.sk-toggleable__label-arrow:hover:before {color: black;}#sk-container-id-14 div.sk-estimator:hover label.sk-toggleable__label-arrow:before {color: black;}#sk-container-id-14 div.sk-toggleable__content {max-height: 0;max-width: 0;overflow: hidden;text-align: left;background-color: #f0f8ff;}#sk-container-id-14 div.sk-toggleable__content pre {margin: 0.2em;color: black;border-radius: 0.25em;background-color: #f0f8ff;}#sk-container-id-14 input.sk-toggleable__control:checked~div.sk-toggleable__content {max-height: 200px;max-width: 100%;overflow: auto;}#sk-container-id-14 input.sk-toggleable__control:checked~label.sk-toggleable__label-arrow:before {content: \"▾\";}#sk-container-id-14 div.sk-estimator input.sk-toggleable__control:checked~label.sk-toggleable__label {background-color: #d4ebff;}#sk-container-id-14 div.sk-label input.sk-toggleable__control:checked~label.sk-toggleable__label {background-color: #d4ebff;}#sk-container-id-14 input.sk-hidden--visually {border: 0;clip: rect(1px 1px 1px 1px);clip: rect(1px, 1px, 1px, 1px);height: 1px;margin: -1px;overflow: hidden;padding: 0;position: absolute;width: 1px;}#sk-container-id-14 div.sk-estimator {font-family: monospace;background-color: #f0f8ff;border: 1px dotted black;border-radius: 0.25em;box-sizing: border-box;margin-bottom: 0.5em;}#sk-container-id-14 div.sk-estimator:hover {background-color: #d4ebff;}#sk-container-id-14 div.sk-parallel-item::after {content: \"\";width: 100%;border-bottom: 1px solid gray;flex-grow: 1;}#sk-container-id-14 div.sk-label:hover label.sk-toggleable__label {background-color: #d4ebff;}#sk-container-id-14 div.sk-serial::before {content: \"\";position: absolute;border-left: 1px solid gray;box-sizing: border-box;top: 0;bottom: 0;left: 50%;z-index: 0;}#sk-container-id-14 div.sk-serial {display: flex;flex-direction: column;align-items: center;background-color: white;padding-right: 0.2em;padding-left: 0.2em;position: relative;}#sk-container-id-14 div.sk-item {position: relative;z-index: 1;}#sk-container-id-14 div.sk-parallel {display: flex;align-items: stretch;justify-content: center;background-color: white;position: relative;}#sk-container-id-14 div.sk-item::before, #sk-container-id-14 div.sk-parallel-item::before {content: \"\";position: absolute;border-left: 1px solid gray;box-sizing: border-box;top: 0;bottom: 0;left: 50%;z-index: -1;}#sk-container-id-14 div.sk-parallel-item {display: flex;flex-direction: column;z-index: 1;position: relative;background-color: white;}#sk-container-id-14 div.sk-parallel-item:first-child::after {align-self: flex-end;width: 50%;}#sk-container-id-14 div.sk-parallel-item:last-child::after {align-self: flex-start;width: 50%;}#sk-container-id-14 div.sk-parallel-item:only-child::after {width: 0;}#sk-container-id-14 div.sk-dashed-wrapped {border: 1px dashed gray;margin: 0 0.4em 0.5em 0.4em;box-sizing: border-box;padding-bottom: 0.4em;background-color: white;}#sk-container-id-14 div.sk-label label {font-family: monospace;font-weight: bold;display: inline-block;line-height: 1.2em;}#sk-container-id-14 div.sk-label-container {text-align: center;}#sk-container-id-14 div.sk-container {/* jupyter's `normalize.less` sets `[hidden] { display: none; }` but bootstrap.min.css set `[hidden] { display: none !important; }` so we also need the `!important` here to be able to override the default hidden behavior on the sphinx rendered scikit-learn.org. See: https://github.com/scikit-learn/scikit-learn/issues/21755 */display: inline-block !important;position: relative;}#sk-container-id-14 div.sk-text-repr-fallback {display: none;}</style><div id=\"sk-container-id-14\" class=\"sk-top-container\"><div class=\"sk-text-repr-fallback\"><pre>LinearRegression()</pre><b>In a Jupyter environment, please rerun this cell to show the HTML representation or trust the notebook. <br />On GitHub, the HTML representation is unable to render, please try loading this page with nbviewer.org.</b></div><div class=\"sk-container\" hidden><div class=\"sk-item\"><div class=\"sk-estimator sk-toggleable\"><input class=\"sk-toggleable__control sk-hidden--visually\" id=\"sk-estimator-id-14\" type=\"checkbox\" checked><label for=\"sk-estimator-id-14\" class=\"sk-toggleable__label sk-toggleable__label-arrow\">LinearRegression</label><div class=\"sk-toggleable__content\"><pre>LinearRegression()</pre></div></div></div></div></div>"
            ]
          },
          "metadata": {},
          "execution_count": 575
        }
      ],
      "source": [
        "lr.fit(x_train , y_train)"
      ]
    },
    {
      "cell_type": "code",
      "execution_count": 576,
      "metadata": {
        "id": "8v6vo3MtpmHu"
      },
      "outputs": [],
      "source": [
        "prediction = lr.predict(x_test)"
      ]
    },
    {
      "cell_type": "markdown",
      "metadata": {
        "id": "abdDZjHKqGvg"
      },
      "source": [
        "# **Evaluation**"
      ]
    },
    {
      "cell_type": "code",
      "execution_count": 577,
      "metadata": {
        "id": "7x4gzWtqpwcV"
      },
      "outputs": [],
      "source": [
        "residual = prediction - y_test"
      ]
    },
    {
      "cell_type": "code",
      "execution_count": 578,
      "metadata": {
        "colab": {
          "base_uri": "https://localhost:8080/",
          "height": 658
        },
        "id": "JL8L8dgMp32F",
        "outputId": "52f257bb-2a80-4898-f5fb-2d1961c380c4"
      },
      "outputs": [
        {
          "output_type": "stream",
          "name": "stderr",
          "text": [
            "<ipython-input-578-2ae57dbbec52>:1: UserWarning: \n",
            "\n",
            "`distplot` is a deprecated function and will be removed in seaborn v0.14.0.\n",
            "\n",
            "Please adapt your code to use either `displot` (a figure-level function with\n",
            "similar flexibility) or `histplot` (an axes-level function for histograms).\n",
            "\n",
            "For a guide to updating your code to use the new functions, please see\n",
            "https://gist.github.com/mwaskom/de44147ed2974457ad6372750bbe5751\n",
            "\n",
            "  sns.distplot(residual , bins = 30 )\n"
          ]
        },
        {
          "output_type": "execute_result",
          "data": {
            "text/plain": [
              "<Axes: xlabel='program_duration_days', ylabel='Density'>"
            ]
          },
          "metadata": {},
          "execution_count": 578
        },
        {
          "output_type": "display_data",
          "data": {
            "text/plain": [
              "<Figure size 640x480 with 1 Axes>"
            ],
            "image/png": "[encoded data removed]"
          },
          "metadata": {}
        }
      ],
      "source": [
        "sns.distplot(residual , bins = 30 )"
      ]
    },
    {
      "cell_type": "code",
      "execution_count": 579,
      "metadata": {
        "id": "SsQjAPlVqAGq"
      },
      "outputs": [],
      "source": [
        "from sklearn import metrics"
      ]
    },
    {
      "cell_type": "code",
      "execution_count": 580,
      "metadata": {
        "colab": {
          "base_uri": "https://localhost:8080/"
        },
        "id": "QRfF4Y8zqPgR",
        "outputId": "d5acb1bf-1326-44fb-c0f8-d554c9748de6"
      },
      "outputs": [
        {
          "output_type": "stream",
          "name": "stdout",
          "text": [
            "MEA 78.1986970684039\n"
          ]
        }
      ],
      "source": [
        "print('MEA' , metrics.mean_absolute_error(y_test , prediction))"
      ]
    }
  ],
  "metadata": {
    "colab": {
      "provenance": []
    },
    "kernelspec": {
      "display_name": "Python 3",
      "name": "python3"
    },
    "language_info": {
      "name": "python"
    }
  },
  "nbformat": 4,
  "nbformat_minor": 0
}